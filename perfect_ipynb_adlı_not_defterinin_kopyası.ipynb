{
  "cells": [
    {
      "cell_type": "markdown",
      "metadata": {
        "id": "view-in-github",
        "colab_type": "text"
      },
      "source": [
        "<a href=\"https://colab.research.google.com/github/kralim/n0thing/blob/main/perfect_ipynb_adl%C4%B1_not_defterinin_kopyas%C4%B1.ipynb\" target=\"_parent\"><img src=\"https://colab.research.google.com/assets/colab-badge.svg\" alt=\"Open In Colab\"/></a>"
      ]
    },
    {
      "cell_type": "code",
      "execution_count": 3,
      "id": "05737fdb",
      "metadata": {
        "id": "05737fdb"
      },
      "outputs": [],
      "source": [
        "import numpy as np\n",
        "import pandas as pd\n",
        "from sklearn.model_selection import train_test_split,GridSearchCV\n",
        "from sklearn.metrics import mean_squared_error, r2_score\n",
        "import matplotlib.pyplot as plt\n",
        "from sklearn.preprocessing import scale\n",
        "from sklearn.preprocessing import StandardScaler\n",
        "from sklearn import model_selection\n",
        "from sklearn.linear_model import LinearRegression\n",
        "from sklearn.tree import DecisionTreeRegressor\n",
        "from sklearn.neighbors import KNeighborsRegressor\n",
        "from sklearn.neural_network import MLPRegressor\n",
        "from sklearn.ensemble import RandomForestRegressor\n",
        "from sklearn.ensemble import GradientBoostingRegressor\n",
        "from sklearn import neighbors\n",
        "from sklearn.svm import SVR\n"
      ]
    },
    {
      "cell_type": "code",
      "execution_count": 5,
      "id": "b5a7fe14",
      "metadata": {
        "id": "b5a7fe14"
      },
      "outputs": [],
      "source": [
        "veriler=pd.read_csv('train - train.csv')\n",
        "testVerisi=pd.read_csv('test - test.csv')\n",
        "\n",
        "\n",
        "for i in veriler.columns:\n",
        "    if (veriler[i].isnull().sum()>10):\n",
        "        veriler=veriler.drop([i],axis=1)\n",
        "        testVerisi=testVerisi.drop([i],axis=1)\n",
        "#print([i for i in veriler.columns if type(veriler[i][2])==str])\n",
        "veriler=veriler.dropna(axis=0)\n",
        "testVerisi=testVerisi.dropna(axis=0)\n",
        "\n",
        "dms= pd.get_dummies( veriler[[i for i in veriler.columns if type(veriler[i][2])==str]] )\n",
        "testVerisi = testVerisi.drop( veriler[ [i for i in veriler.columns if type(veriler[i][2])==str]] ,axis=1)\n",
        "\n",
        "veriler = veriler.drop( veriler[ [i for i in veriler.columns if type(veriler[i][2])==str]] ,axis=1)\n",
        "y=veriler[[\"SalePrice\"]]\n",
        "yWithId=veriler[[\"SalePrice\",\"Id\"]]\n",
        "\n",
        "x=veriler.drop([\"SalePrice\"],axis=1)\n",
        "\n",
        "\n",
        "yeniDf=pd.concat([x,dms],axis=1)"
      ]
    },
    {
      "cell_type": "markdown",
      "source": [
        "# Yeni Bölüm"
      ],
      "metadata": {
        "id": "zFvZJP0aCpIG"
      },
      "id": "zFvZJP0aCpIG"
    },
    {
      "cell_type": "code",
      "execution_count": 6,
      "id": "dd207e91",
      "metadata": {
        "id": "dd207e91"
      },
      "outputs": [],
      "source": [
        "X_train,X_test,y_train,y_test = train_test_split(x,y,test_size=0.001,random_state=1)\n",
        "\"\"\"y_train= pd.DataFrame(data=y_train,index=range(len(y_train)))\n",
        "y_test= pd.DataFrame(data=y_test,index=range(len(X_test)))\n",
        "X_test= pd.DataFrame(data=X_test,index=range(len(X_test)))\n",
        "X_train= pd.DataFrame(data=X_train,index=range(len(y_train)))\"\"\"\n",
        "y_train = y_train.reset_index()\n",
        "y_test = y_test.reset_index()\n",
        "X_test = X_test.reset_index()\n",
        "X_train = X_train.reset_index()\n",
        "y_train=y_train.drop( y_train.columns[0],axis=1)#inedex column drop ediliyor\n",
        "y_test=y_test.drop(y_test.columns[0],axis=1)\n",
        "X_train=X_train.drop( X_train.columns[0],axis=1)\n",
        "X_test=X_test.drop(X_test.columns[0],axis=1)"
      ]
    },
    {
      "cell_type": "code",
      "execution_count": 7,
      "id": "35e19eef",
      "metadata": {
        "id": "35e19eef",
        "outputId": "780c6601-73e9-4603-a34f-44cce65cbfc3",
        "colab": {
          "base_uri": "https://localhost:8080/"
        }
      },
      "outputs": [
        {
          "output_type": "stream",
          "name": "stderr",
          "text": [
            "/usr/local/lib/python3.7/dist-packages/ipykernel_launcher.py:1: DataConversionWarning: A column-vector y was passed when a 1d array was expected. Please change the shape of y to (n_samples,), for example using ravel().\n",
            "  \"\"\"Entry point for launching an IPython kernel.\n"
          ]
        },
        {
          "output_type": "stream",
          "name": "stdout",
          "text": [
            "train mse: 10695.793603140046\n"
          ]
        },
        {
          "output_type": "execute_result",
          "data": {
            "text/plain": [
              "('test mse : ', 12433.456645458653)"
            ]
          },
          "metadata": {},
          "execution_count": 7
        }
      ],
      "source": [
        "rf_model = RandomForestRegressor(random_state=1).fit(X_train,y_train)\n",
        "y_pred = rf_model.predict(X_train)\n",
        "print(\"train mse:\",np.sqrt(mean_squared_error(y_train,y_pred)))\n",
        "y_pred = rf_model.predict(X_test)\n",
        "\"test mse : \",np.sqrt( mean_squared_error(y_test,y_pred))"
      ]
    },
    {
      "cell_type": "code",
      "execution_count": 8,
      "id": "26621616",
      "metadata": {
        "id": "26621616",
        "outputId": "ed8d97b8-de8a-4b36-b609-83733500cc1f",
        "colab": {
          "base_uri": "https://localhost:8080/"
        }
      },
      "outputs": [
        {
          "output_type": "stream",
          "name": "stdout",
          "text": [
            "1405\n",
            "predict price :  [265802.04]\n"
          ]
        }
      ],
      "source": [
        "toplamVeri = pd.concat([x,testVerisi],axis=0)\n",
        "\n",
        "id=int(input())\n",
        "aid=toplamVeri.index[toplamVeri['Id'] == id].tolist()\n",
        "print(\"predict price : \",rf_model.predict(toplamVeri.iloc[aid]))"
      ]
    },
    {
      "cell_type": "code",
      "execution_count": 9,
      "id": "28052a7b",
      "metadata": {
        "id": "28052a7b"
      },
      "outputs": [],
      "source": [
        "rf_params = {\"max_depth\": [5,8],\n",
        "            \"max_features\": [2,5],\n",
        "            \"n_estimators\":[200,500,1000],\n",
        "            \"min_samples_split\":[2,10,80]}\n"
      ]
    },
    {
      "cell_type": "code",
      "execution_count": 10,
      "id": "880ea5bb",
      "metadata": {
        "id": "880ea5bb",
        "colab": {
          "base_uri": "https://localhost:8080/"
        },
        "outputId": "bfeae7d4-2025-4724-dc96-b6eb1e6cab4a"
      },
      "outputs": [
        {
          "output_type": "stream",
          "name": "stdout",
          "text": [
            "Fitting 10 folds for each of 36 candidates, totalling 360 fits\n"
          ]
        },
        {
          "output_type": "stream",
          "name": "stderr",
          "text": [
            "/usr/local/lib/python3.7/dist-packages/sklearn/model_selection/_search.py:926: DataConversionWarning: A column-vector y was passed when a 1d array was expected. Please change the shape of y to (n_samples,), for example using ravel().\n",
            "  self.best_estimator_.fit(X, y, **fit_params)\n"
          ]
        }
      ],
      "source": [
        "rf_cv_model = GridSearchCV(rf_model,rf_params,cv=10,n_jobs=-1,verbose=2).fit(X_train,y_train)"
      ]
    },
    {
      "cell_type": "code",
      "execution_count": 11,
      "id": "8e3f2ded",
      "metadata": {
        "id": "8e3f2ded",
        "colab": {
          "base_uri": "https://localhost:8080/"
        },
        "outputId": "e2d8a2e5-b490-4d01-bfa3-bc011d77be28"
      },
      "outputs": [
        {
          "output_type": "execute_result",
          "data": {
            "text/plain": [
              "{'max_depth': 8,\n",
              " 'max_features': 5,\n",
              " 'min_samples_split': 2,\n",
              " 'n_estimators': 500}"
            ]
          },
          "metadata": {},
          "execution_count": 11
        }
      ],
      "source": [
        "rf_cv_model.best_params_"
      ]
    },
    {
      "cell_type": "code",
      "source": [
        "rf_model = RandomForestRegressor(random_state=42,\n",
        "                                max_depth=8,\n",
        "                                max_features=5,\n",
        "                                min_samples_split=2,\n",
        "                                n_estimators=500)\n",
        "rf_tuned=rf_model.fit(X_train,y_train)"
      ],
      "metadata": {
        "colab": {
          "base_uri": "https://localhost:8080/"
        },
        "id": "00K6yAm4D0gk",
        "outputId": "3c858d8c-db59-442f-d702-2d6234e3e530"
      },
      "id": "00K6yAm4D0gk",
      "execution_count": 12,
      "outputs": [
        {
          "output_type": "stream",
          "name": "stderr",
          "text": [
            "/usr/local/lib/python3.7/dist-packages/ipykernel_launcher.py:6: DataConversionWarning: A column-vector y was passed when a 1d array was expected. Please change the shape of y to (n_samples,), for example using ravel().\n",
            "  \n"
          ]
        }
      ]
    },
    {
      "cell_type": "code",
      "source": [
        "y_pred = rf_tuned.predict(X_train)\n",
        "print(\"train mse:\",np.sqrt(mean_squared_error(y_train,y_pred)))\n",
        "y_pred = rf_tuned.predict(X_test)\n",
        "\"test mse : \",np.sqrt( mean_squared_error(y_test,y_pred))"
      ],
      "metadata": {
        "colab": {
          "base_uri": "https://localhost:8080/"
        },
        "id": "PEs3TYZMD4kz",
        "outputId": "fb6ade4d-190f-4c55-cd13-31049a110395"
      },
      "id": "PEs3TYZMD4kz",
      "execution_count": 13,
      "outputs": [
        {
          "output_type": "stream",
          "name": "stdout",
          "text": [
            "train mse: 17586.688240919175\n"
          ]
        },
        {
          "output_type": "execute_result",
          "data": {
            "text/plain": [
              "('test mse : ', 14932.922323957893)"
            ]
          },
          "metadata": {},
          "execution_count": 13
        }
      ]
    },
    {
      "cell_type": "code",
      "source": [],
      "metadata": {
        "id": "kgdRvgWFEHTR"
      },
      "id": "kgdRvgWFEHTR",
      "execution_count": null,
      "outputs": []
    },
    {
      "cell_type": "code",
      "source": [
        "Importance = pd.DataFrame({'Importance':rf_tuned.feature_importances_*100},\n",
        "                         index=X_train.columns)\n",
        "\n",
        "Importance.sort_values(by='Importance',\n",
        "                      axis=0,\n",
        "                      ascending = True).plot(kind = 'barh',\n",
        "                                           color = 'b',)\n",
        "\n",
        "plt.xlabel('Variable Importance')\n",
        "plt.gca().legend_=None"
      ],
      "metadata": {
        "colab": {
          "base_uri": "https://localhost:8080/",
          "height": 280
        },
        "id": "1dCOSA8AD4b1",
        "outputId": "a6b33274-d28f-4d89-d2ab-f5b65836f373"
      },
      "id": "1dCOSA8AD4b1",
      "execution_count": 14,
      "outputs": [
        {
          "output_type": "display_data",
          "data": {
            "text/plain": [
              "<Figure size 432x288 with 1 Axes>"
            ],
            "image/png": "[encoded data removed]"
          },
          "metadata": {
            "needs_background": "light"
          }
        }
      ]
    }
  ],
  "metadata": {
    "kernelspec": {
      "display_name": "Python 3",
      "language": "python",
      "name": "python3"
    },
    "language_info": {
      "codemirror_mode": {
        "name": "ipython",
        "version": 3
      },
      "file_extension": ".py",
      "mimetype": "text/x-python",
      "name": "python",
      "nbconvert_exporter": "python",
      "pygments_lexer": "ipython3",
      "version": "3.8.10"
    },
    "colab": {
      "provenance": [],
      "toc_visible": true,
      "include_colab_link": true
    }
  },
  "nbformat": 4,
  "nbformat_minor": 5
}