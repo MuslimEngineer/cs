{
  "cells": [
    {
      "cell_type": "markdown",
      "metadata": {
        "id": "view-in-github",
        "colab_type": "text"
      },
      "source": [
        "<a href=\"https://colab.research.google.com/github/kralim/n0thing/blob/main/perfect_ipynb_adl%C4%B1_not_defterinin_kopyas%C4%B1.ipynb\" target=\"_parent\"><img src=\"https://colab.research.google.com/assets/colab-badge.svg\" alt=\"Open In Colab\"/></a>"
      ]
    },
    {
      "cell_type": "code",
      "execution_count": null,
      "id": "05737fdb",
      "metadata": {
        "id": "05737fdb"
      },
      "outputs": [],
      "source": [
        "import numpy as np\n",
        "import pandas as pd\n",
        "from sklearn.model_selection import train_test_split,GridSearchCV\n",
        "from sklearn.metrics import mean_squared_error, r2_score\n",
        "import matplotlib.pyplot as plt\n",
        "from sklearn.preprocessing import scale\n",
        "from sklearn.preprocessing import StandardScaler\n",
        "from sklearn import model_selection\n",
        "from sklearn.linear_model import LinearRegression\n",
        "from sklearn.tree import DecisionTreeRegressor\n",
        "from sklearn.neighbors import KNeighborsRegressor\n",
        "from sklearn.neural_network import MLPRegressor\n",
        "from sklearn.ensemble import RandomForestRegressor\n",
        "from sklearn.ensemble import GradientBoostingRegressor\n",
        "from sklearn import neighbors\n",
        "from sklearn.svm import SVR\n"
      ]
    },
    {
      "cell_type": "code",
      "execution_count": null,
      "id": "b5a7fe14",
      "metadata": {
        "id": "b5a7fe14"
      },
      "outputs": [],
      "source": [
        "veriler=pd.read_csv('train - train.csv')\n",
        "testVerisi=pd.read_csv('test - test.csv')\n",
        "\n",
        "\n",
        "for i in veriler.columns:\n",
        "    if (veriler[i].isnull().sum()>10):\n",
        "        veriler=veriler.drop([i],axis=1)\n",
        "        testVerisi=testVerisi.drop([i],axis=1)\n",
        "#print([i for i in veriler.columns if type(veriler[i][2])==str])\n",
        "veriler=veriler.dropna(axis=0)\n",
        "testVerisi=testVerisi.dropna(axis=0)\n",
        "\n",
        "dms= pd.get_dummies( veriler[[i for i in veriler.columns if type(veriler[i][2])==str]] )\n",
        "testVerisi = testVerisi.drop( veriler[ [i for i in veriler.columns if type(veriler[i][2])==str]] ,axis=1)\n",
        "\n",
        "veriler = veriler.drop( veriler[ [i for i in veriler.columns if type(veriler[i][2])==str]] ,axis=1)\n",
        "y=veriler[[\"SalePrice\"]]\n",
        "yWithId=veriler[[\"SalePrice\",\"Id\"]]\n",
        "\n",
        "x=veriler.drop([\"SalePrice\"],axis=1)\n",
        "\n",
        "\n",
        "yeniDf=pd.concat([x,dms],axis=1)"
      ]
    },
    {
      "cell_type": "code",
      "execution_count": null,
      "id": "dd207e91",
      "metadata": {
        "id": "dd207e91"
      },
      "outputs": [],
      "source": [
        "X_train,X_test,y_train,y_test = train_test_split(x,y,test_size=0.001,random_state=1)\n",
        "\"\"\"y_train= pd.DataFrame(data=y_train,index=range(len(y_train)))\n",
        "y_test= pd.DataFrame(data=y_test,index=range(len(X_test)))\n",
        "X_test= pd.DataFrame(data=X_test,index=range(len(X_test)))\n",
        "X_train= pd.DataFrame(data=X_train,index=range(len(y_train)))\"\"\"\n",
        "y_train = y_train.reset_index()\n",
        "y_test = y_test.reset_index()\n",
        "X_test = X_test.reset_index()\n",
        "X_train = X_train.reset_index()\n",
        "y_train=y_train.drop( y_train.columns[0],axis=1)#inedex column drop ediliyor\n",
        "y_test=y_test.drop(y_test.columns[0],axis=1)\n",
        "X_train=X_train.drop( X_train.columns[0],axis=1)\n",
        "X_test=X_test.drop(X_test.columns[0],axis=1)"
      ]
    },
    {
      "cell_type": "code",
      "execution_count": null,
      "id": "35e19eef",
      "metadata": {
        "id": "35e19eef",
        "outputId": "39d98525-d13f-48ec-c969-b4f69fb2b09a"
      },
      "outputs": [
        {
          "name": "stderr",
          "output_type": "stream",
          "text": [
            "<ipython-input-133-14b076a683da>:1: DataConversionWarning: A column-vector y was passed when a 1d array was expected. Please change the shape of y to (n_samples,), for example using ravel().\n",
            "  rf_model = RandomForestRegressor(random_state=1).fit(X_train,y_train)\n"
          ]
        },
        {
          "name": "stdout",
          "output_type": "stream",
          "text": [
            "train mse: 10695.793603140046\n"
          ]
        },
        {
          "data": {
            "text/plain": [
              "('test mse : ', 12433.456645458653)"
            ]
          },
          "execution_count": 133,
          "metadata": {},
          "output_type": "execute_result"
        }
      ],
      "source": [
        "rf_model = RandomForestRegressor(random_state=1).fit(X_train,y_train)\n",
        "y_pred = rf_model.predict(X_train)\n",
        "print(\"train mse:\",np.sqrt(mean_squared_error(y_train,y_pred)))\n",
        "y_pred = rf_model.predict(X_test)\n",
        "\"test mse : \",np.sqrt( mean_squared_error(y_test,y_pred))"
      ]
    },
    {
      "cell_type": "code",
      "execution_count": null,
      "id": "26621616",
      "metadata": {
        "id": "26621616",
        "outputId": "21cf0c31-6ffb-4a55-bdcc-850fd7c5a686"
      },
      "outputs": [
        {
          "name": "stdout",
          "output_type": "stream",
          "text": [
            "2\n",
            "predict price :  [176375.37]\n"
          ]
        }
      ],
      "source": [
        "toplamVeri = pd.concat([x,testVerisi],axis=0)\n",
        "\n",
        "id=int(input())\n",
        "aid=toplamVeri.index[toplamVeri['Id'] == id].tolist()\n",
        "print(\"predict price : \",rf_model.predict(toplamVeri.iloc[aid]))"
      ]
    },
    {
      "cell_type": "code",
      "execution_count": null,
      "id": "28052a7b",
      "metadata": {
        "id": "28052a7b"
      },
      "outputs": [],
      "source": []
    },
    {
      "cell_type": "code",
      "execution_count": null,
      "id": "880ea5bb",
      "metadata": {
        "id": "880ea5bb"
      },
      "outputs": [],
      "source": []
    },
    {
      "cell_type": "code",
      "execution_count": null,
      "id": "8e3f2ded",
      "metadata": {
        "id": "8e3f2ded"
      },
      "outputs": [],
      "source": []
    }
  ],
  "metadata": {
    "kernelspec": {
      "display_name": "Python 3",
      "language": "python",
      "name": "python3"
    },
    "language_info": {
      "codemirror_mode": {
        "name": "ipython",
        "version": 3
      },
      "file_extension": ".py",
      "mimetype": "text/x-python",
      "name": "python",
      "nbconvert_exporter": "python",
      "pygments_lexer": "ipython3",
      "version": "3.8.10"
    },
    "colab": {
      "provenance": [],
      "include_colab_link": true
    }
  },
  "nbformat": 4,
  "nbformat_minor": 5
}